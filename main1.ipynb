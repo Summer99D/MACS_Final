{
 "cells": [
  {
   "cell_type": "code",
   "execution_count": 3,
   "metadata": {},
   "outputs": [],
   "source": [
    "import boto3\n",
    "import json\n",
    "import logging\n",
    "from botocore.exceptions import ClientError\n",
    "import zipfile\n",
    "import os\n",
    "import time\n",
    "from datetime import datetime # Ensure datetime is imported if not already at the top\n"
   ]
  },
  {
   "cell_type": "code",
   "execution_count": 14,
   "metadata": {},
   "outputs": [],
   "source": [
    "# Instantiating clients\n",
    "aws_lambda = boto3.client('lambda', region_name='us-east-1')\n",
    "iam_client = boto3.client('iam')\n",
    "s3_client = boto3.client('s3', region_name='us-east-1')\n",
    "sqs = boto3.client('sqs', region_name=\"us-east-1\")\n",
    "dynamodb = boto3.resource('dynamodb', region_name='us-east-1')\n",
    "dynamodb_client = boto3.client('dynamodb', region_name='us-east-1')\n",
    "role = iam_client.get_role(RoleName='LabRole')\n",
    "role_arn = role['Role']['Arn']\n",
    "sns_client = boto3.client(\"sns\", region_name='us-east-1')\n",
    "lambda_client = boto3.client('lambda', region_name= 'us-east-1')\n"
   ]
  },
  {
   "cell_type": "code",
   "execution_count": 39,
   "metadata": {},
   "outputs": [
    {
     "name": "stdout",
     "output_type": "stream",
     "text": [
      "Bucket final-summer99d created successfully.\n"
     ]
    },
    {
     "data": {
      "text/plain": [
       "True"
      ]
     },
     "execution_count": 39,
     "metadata": {},
     "output_type": "execute_result"
    }
   ],
   "source": [
    "# --- Create S3 Bucket (Incoming Data Bucket) ---\n",
    "def create_bucket(bucket_name, region='us-east-1'):\n",
    "    \"\"\"Create an S3 bucket in a specified region.\"\"\"\n",
    "    try:\n",
    "        if region == 'us-east-1':\n",
    "            s3_client.create_bucket(Bucket=bucket_name)\n",
    "        else:\n",
    "            location = {'LocationConstraint': region}\n",
    "            s3_client.create_bucket(Bucket=bucket_name, CreateBucketConfiguration=location)\n",
    "        print(f'Bucket {bucket_name} created successfully.')\n",
    "    except ClientError as e:\n",
    "        if e.response['Error']['Code'] == 'BucketAlreadyOwnedByYou':\n",
    "            print(f'Bucket {bucket_name} already exists and is owned by you.')\n",
    "        elif e.response['Error']['Code'] == 'BucketAlreadyExists':\n",
    "            print(f'Bucket {bucket_name} already exists (owned by another account or globally).')\n",
    "        else:\n",
    "            logging.error(e)\n",
    "            return False\n",
    "    return True\n",
    "\n",
    "incoming_bucket_name = \"final-summer99d\"\n",
    "create_bucket(incoming_bucket_name)\n"
   ]
  },
  {
   "cell_type": "code",
   "execution_count": 4,
   "metadata": {},
   "outputs": [
    {
     "name": "stdout",
     "output_type": "stream",
     "text": [
      "DynamoDB table CyclicalBetaSurvey already exists.\n"
     ]
    },
    {
     "data": {
      "text/plain": [
       "True"
      ]
     },
     "execution_count": 4,
     "metadata": {},
     "output_type": "execute_result"
    }
   ],
   "source": [
    "# ----- Create a DynamoDB table ----\n",
    "def create_dynamodb_table(table_name):\n",
    "    \"\"\"Create a DynamoDB table for survey responses.\"\"\"\n",
    "    try:\n",
    "        dynamodb_client.create_table(\n",
    "            TableName=table_name,\n",
    "            KeySchema=[\n",
    "                {'AttributeName': 'user_id', 'KeyType': 'HASH'},  # Partition key\n",
    "                {'AttributeName': 'timestamp', 'KeyType': 'RANGE'}  # Sort key\n",
    "            ],\n",
    "            AttributeDefinitions=[\n",
    "                {'AttributeName': 'user_id', 'AttributeType': 'S'},\n",
    "                {'AttributeName': 'timestamp', 'AttributeType': 'S'}\n",
    "            ],\n",
    "            ProvisionedThroughput={\n",
    "                'ReadCapacityUnits': 5,\n",
    "                'WriteCapacityUnits': 5\n",
    "            }\n",
    "        )\n",
    "        dynamodb_client.get_waiter('table_exists').wait(TableName=table_name)\n",
    "        print(f'DynamoDB table {table_name} created successfully.')\n",
    "    except ClientError as e:\n",
    "        if e.response['Error']['Code'] == 'ResourceInUseException':\n",
    "            print(f'DynamoDB table {table_name} already exists.')\n",
    "        else:\n",
    "            logging.error(e)\n",
    "            return False\n",
    "    return True\n",
    "\n",
    "# Setting beta table name\n",
    "table_name = 'CyclicalBetaSurvey'\n",
    "\n",
    "# Call the function to create the table\n",
    "create_dynamodb_table(table_name)\n"
   ]
  },
  {
   "cell_type": "code",
   "execution_count": 5,
   "metadata": {},
   "outputs": [],
   "source": [
    "table_name= \"CyclicalBetaSurvey\""
   ]
  },
  {
   "cell_type": "code",
   "execution_count": 6,
   "metadata": {},
   "outputs": [],
   "source": [
    "bucket_name= \"final-summer99d\""
   ]
  },
  {
   "cell_type": "code",
   "execution_count": 7,
   "metadata": {},
   "outputs": [],
   "source": [
    "# --- Helper for Zipping Lambda Code ---\n",
    "def create_lambda_zip(file_name, zip_name):\n",
    "    with zipfile.ZipFile(zip_name, 'w', zipfile.ZIP_DEFLATED) as zf:\n",
    "        zf.write(file_name, arcname=os.path.basename(file_name))\n",
    "    print(f\"{zip_name} created from {file_name}.\")\n",
    "\n",
    "# --- Helper for creating/updating Lambda Function ---\n",
    "def deploy_lambda_function(function_name, handler, runtime, role_arn, zip_file_path, timeout=30):\n",
    "    create_lambda_zip(handler.split('.')[0] + '.py', zip_file_path)\n",
    "    with open(zip_file_path, 'rb') as f:\n",
    "        lambda_zip_content = f.read()\n",
    "\n",
    "    try:\n",
    "        aws_lambda.create_function(\n",
    "            FunctionName=function_name,\n",
    "            Runtime=runtime,\n",
    "            Role=role_arn,\n",
    "            Handler=handler,\n",
    "            Code=dict(ZipFile=lambda_zip_content),\n",
    "            Timeout=timeout\n",
    "        )\n",
    "        print(f\"{function_name} function created.\")\n",
    "    except ClientError as e:\n",
    "        if e.response['Error']['Code'] == 'ResourceConflictException':\n",
    "            print(f\"{function_name} already exists. Attempting to update code.\")\n",
    "            aws_lambda.update_function_code(\n",
    "                FunctionName=function_name,\n",
    "                ZipFile=lambda_zip_content\n",
    "            )\n",
    "            aws_lambda.update_function_configuration(\n",
    "                FunctionName=function_name,\n",
    "                Handler=handler, # Update handler in case it changed\n",
    "                Runtime=runtime, # Update runtime in case it changed\n",
    "                Role=role_arn,   # Update role in case it changed\n",
    "                Timeout=timeout\n",
    "            )\n",
    "            print(f\"{function_name} function code and configuration updated.\")\n",
    "        else:\n",
    "            raise e\n"
   ]
  },
  {
   "cell_type": "code",
   "execution_count": 8,
   "metadata": {},
   "outputs": [
    {
     "name": "stdout",
     "output_type": "stream",
     "text": [
      "verify.zip created from verify.py.\n",
      "verify already exists. Attempting to update code.\n"
     ]
    },
    {
     "ename": "ResourceConflictException",
     "evalue": "An error occurred (ResourceConflictException) when calling the UpdateFunctionConfiguration operation: The operation cannot be performed at this time. An update is in progress for resource: arn:aws:lambda:us-east-1:544835564974:function:verify",
     "output_type": "error",
     "traceback": [
      "\u001b[0;31m---------------------------------------------------------------------------\u001b[0m",
      "\u001b[0;31mResourceConflictException\u001b[0m                 Traceback (most recent call last)",
      "Cell \u001b[0;32mIn[7], line 14\u001b[0m, in \u001b[0;36mdeploy_lambda_function\u001b[0;34m(function_name, handler, runtime, role_arn, zip_file_path, timeout)\u001b[0m\n\u001b[1;32m     13\u001b[0m \u001b[38;5;28;01mtry\u001b[39;00m:\n\u001b[0;32m---> 14\u001b[0m     \u001b[43maws_lambda\u001b[49m\u001b[38;5;241;43m.\u001b[39;49m\u001b[43mcreate_function\u001b[49m\u001b[43m(\u001b[49m\n\u001b[1;32m     15\u001b[0m \u001b[43m        \u001b[49m\u001b[43mFunctionName\u001b[49m\u001b[38;5;241;43m=\u001b[39;49m\u001b[43mfunction_name\u001b[49m\u001b[43m,\u001b[49m\n\u001b[1;32m     16\u001b[0m \u001b[43m        \u001b[49m\u001b[43mRuntime\u001b[49m\u001b[38;5;241;43m=\u001b[39;49m\u001b[43mruntime\u001b[49m\u001b[43m,\u001b[49m\n\u001b[1;32m     17\u001b[0m \u001b[43m        \u001b[49m\u001b[43mRole\u001b[49m\u001b[38;5;241;43m=\u001b[39;49m\u001b[43mrole_arn\u001b[49m\u001b[43m,\u001b[49m\n\u001b[1;32m     18\u001b[0m \u001b[43m        \u001b[49m\u001b[43mHandler\u001b[49m\u001b[38;5;241;43m=\u001b[39;49m\u001b[43mhandler\u001b[49m\u001b[43m,\u001b[49m\n\u001b[1;32m     19\u001b[0m \u001b[43m        \u001b[49m\u001b[43mCode\u001b[49m\u001b[38;5;241;43m=\u001b[39;49m\u001b[38;5;28;43mdict\u001b[39;49m\u001b[43m(\u001b[49m\u001b[43mZipFile\u001b[49m\u001b[38;5;241;43m=\u001b[39;49m\u001b[43mlambda_zip_content\u001b[49m\u001b[43m)\u001b[49m\u001b[43m,\u001b[49m\n\u001b[1;32m     20\u001b[0m \u001b[43m        \u001b[49m\u001b[43mTimeout\u001b[49m\u001b[38;5;241;43m=\u001b[39;49m\u001b[43mtimeout\u001b[49m\n\u001b[1;32m     21\u001b[0m \u001b[43m    \u001b[49m\u001b[43m)\u001b[49m\n\u001b[1;32m     22\u001b[0m     \u001b[38;5;28mprint\u001b[39m(\u001b[38;5;124mf\u001b[39m\u001b[38;5;124m\"\u001b[39m\u001b[38;5;132;01m{\u001b[39;00mfunction_name\u001b[38;5;132;01m}\u001b[39;00m\u001b[38;5;124m function created.\u001b[39m\u001b[38;5;124m\"\u001b[39m)\n",
      "File \u001b[0;32m~/Library/Python/3.9/lib/python/site-packages/botocore/client.py:570\u001b[0m, in \u001b[0;36mClientCreator._create_api_method.<locals>._api_call\u001b[0;34m(self, *args, **kwargs)\u001b[0m\n\u001b[1;32m    569\u001b[0m \u001b[38;5;66;03m# The \"self\" in this scope is referring to the BaseClient.\u001b[39;00m\n\u001b[0;32m--> 570\u001b[0m \u001b[38;5;28;01mreturn\u001b[39;00m \u001b[38;5;28;43mself\u001b[39;49m\u001b[38;5;241;43m.\u001b[39;49m\u001b[43m_make_api_call\u001b[49m\u001b[43m(\u001b[49m\u001b[43moperation_name\u001b[49m\u001b[43m,\u001b[49m\u001b[43m \u001b[49m\u001b[43mkwargs\u001b[49m\u001b[43m)\u001b[49m\n",
      "File \u001b[0;32m~/Library/Python/3.9/lib/python/site-packages/botocore/context.py:123\u001b[0m, in \u001b[0;36mwith_current_context.<locals>.decorator.<locals>.wrapper\u001b[0;34m(*args, **kwargs)\u001b[0m\n\u001b[1;32m    122\u001b[0m     hook()\n\u001b[0;32m--> 123\u001b[0m \u001b[38;5;28;01mreturn\u001b[39;00m \u001b[43mfunc\u001b[49m\u001b[43m(\u001b[49m\u001b[38;5;241;43m*\u001b[39;49m\u001b[43margs\u001b[49m\u001b[43m,\u001b[49m\u001b[43m \u001b[49m\u001b[38;5;241;43m*\u001b[39;49m\u001b[38;5;241;43m*\u001b[39;49m\u001b[43mkwargs\u001b[49m\u001b[43m)\u001b[49m\n",
      "File \u001b[0;32m~/Library/Python/3.9/lib/python/site-packages/botocore/client.py:1031\u001b[0m, in \u001b[0;36mBaseClient._make_api_call\u001b[0;34m(self, operation_name, api_params)\u001b[0m\n\u001b[1;32m   1030\u001b[0m     error_class \u001b[38;5;241m=\u001b[39m \u001b[38;5;28mself\u001b[39m\u001b[38;5;241m.\u001b[39mexceptions\u001b[38;5;241m.\u001b[39mfrom_code(error_code)\n\u001b[0;32m-> 1031\u001b[0m     \u001b[38;5;28;01mraise\u001b[39;00m error_class(parsed_response, operation_name)\n\u001b[1;32m   1032\u001b[0m \u001b[38;5;28;01melse\u001b[39;00m:\n",
      "\u001b[0;31mResourceConflictException\u001b[0m: An error occurred (ResourceConflictException) when calling the CreateFunction operation: Function already exist: verify",
      "\nDuring handling of the above exception, another exception occurred:\n",
      "\u001b[0;31mResourceConflictException\u001b[0m                 Traceback (most recent call last)",
      "Cell \u001b[0;32mIn[8], line 7\u001b[0m\n\u001b[1;32m      2\u001b[0m \u001b[38;5;28;01mif\u001b[39;00m role_arn:\n\u001b[1;32m      3\u001b[0m     \u001b[38;5;66;03m# verify (initial validation) Lambda function\u001b[39;00m\n\u001b[1;32m      4\u001b[0m     \u001b[38;5;66;03m# The name of the Lambda function in AWS will be 'verify'.\u001b[39;00m\n\u001b[1;32m      5\u001b[0m     \u001b[38;5;66;03m# This deploys the 'verify.py' file.\u001b[39;00m\n\u001b[1;32m      6\u001b[0m     lambda_name_verify \u001b[38;5;241m=\u001b[39m \u001b[38;5;124m'\u001b[39m\u001b[38;5;124mverify\u001b[39m\u001b[38;5;124m'\u001b[39m  \u001b[38;5;66;03m# Correctly define the function name\u001b[39;00m\n\u001b[0;32m----> 7\u001b[0m     \u001b[43mdeploy_lambda_function\u001b[49m\u001b[43m(\u001b[49m\n\u001b[1;32m      8\u001b[0m \u001b[43m    \u001b[49m\u001b[43mfunction_name\u001b[49m\u001b[38;5;241;43m=\u001b[39;49m\u001b[43mlambda_name_verify\u001b[49m\u001b[43m,\u001b[49m\u001b[43m  \u001b[49m\u001b[38;5;66;43;03m# Use the defined variable\u001b[39;49;00m\n\u001b[1;32m      9\u001b[0m \u001b[43m    \u001b[49m\u001b[43mhandler\u001b[49m\u001b[38;5;241;43m=\u001b[39;49m\u001b[38;5;124;43m'\u001b[39;49m\u001b[38;5;124;43mverify.lambda_handler\u001b[39;49m\u001b[38;5;124;43m'\u001b[39;49m\u001b[43m,\u001b[49m\u001b[43m   \u001b[49m\u001b[38;5;66;43;03m# Points to verify.py and lambda_handler\u001b[39;49;00m\n\u001b[1;32m     10\u001b[0m \u001b[43m    \u001b[49m\u001b[43mruntime\u001b[49m\u001b[38;5;241;43m=\u001b[39;49m\u001b[38;5;124;43m'\u001b[39;49m\u001b[38;5;124;43mpython3.9\u001b[39;49m\u001b[38;5;124;43m'\u001b[39;49m\u001b[43m,\u001b[49m\n\u001b[1;32m     11\u001b[0m \u001b[43m    \u001b[49m\u001b[43mrole_arn\u001b[49m\u001b[38;5;241;43m=\u001b[39;49m\u001b[43mrole_arn\u001b[49m\u001b[43m,\u001b[49m\n\u001b[1;32m     12\u001b[0m \u001b[43m    \u001b[49m\u001b[43mzip_file_path\u001b[49m\u001b[38;5;241;43m=\u001b[39;49m\u001b[38;5;124;43mf\u001b[39;49m\u001b[38;5;124;43m'\u001b[39;49m\u001b[38;5;132;43;01m{\u001b[39;49;00m\u001b[43mlambda_name_verify\u001b[49m\u001b[38;5;132;43;01m}\u001b[39;49;00m\u001b[38;5;124;43m.zip\u001b[39;49m\u001b[38;5;124;43m'\u001b[39;49m\u001b[43m  \u001b[49m\u001b[38;5;66;43;03m# This will look for 'verify.zip'\u001b[39;49;00m\n\u001b[1;32m     13\u001b[0m \u001b[43m)\u001b[49m\n\u001b[1;32m     15\u001b[0m     \u001b[38;5;66;03m# cat_lambda\u001b[39;00m\n\u001b[1;32m     16\u001b[0m     lambda_name_cat \u001b[38;5;241m=\u001b[39m \u001b[38;5;124m'\u001b[39m\u001b[38;5;124mcat_lambda\u001b[39m\u001b[38;5;124m'\u001b[39m\n",
      "Cell \u001b[0;32mIn[7], line 30\u001b[0m, in \u001b[0;36mdeploy_lambda_function\u001b[0;34m(function_name, handler, runtime, role_arn, zip_file_path, timeout)\u001b[0m\n\u001b[1;32m     25\u001b[0m     \u001b[38;5;28mprint\u001b[39m(\u001b[38;5;124mf\u001b[39m\u001b[38;5;124m\"\u001b[39m\u001b[38;5;132;01m{\u001b[39;00mfunction_name\u001b[38;5;132;01m}\u001b[39;00m\u001b[38;5;124m already exists. Attempting to update code.\u001b[39m\u001b[38;5;124m\"\u001b[39m)\n\u001b[1;32m     26\u001b[0m     aws_lambda\u001b[38;5;241m.\u001b[39mupdate_function_code(\n\u001b[1;32m     27\u001b[0m         FunctionName\u001b[38;5;241m=\u001b[39mfunction_name,\n\u001b[1;32m     28\u001b[0m         ZipFile\u001b[38;5;241m=\u001b[39mlambda_zip_content\n\u001b[1;32m     29\u001b[0m     )\n\u001b[0;32m---> 30\u001b[0m     \u001b[43maws_lambda\u001b[49m\u001b[38;5;241;43m.\u001b[39;49m\u001b[43mupdate_function_configuration\u001b[49m\u001b[43m(\u001b[49m\n\u001b[1;32m     31\u001b[0m \u001b[43m        \u001b[49m\u001b[43mFunctionName\u001b[49m\u001b[38;5;241;43m=\u001b[39;49m\u001b[43mfunction_name\u001b[49m\u001b[43m,\u001b[49m\n\u001b[1;32m     32\u001b[0m \u001b[43m        \u001b[49m\u001b[43mHandler\u001b[49m\u001b[38;5;241;43m=\u001b[39;49m\u001b[43mhandler\u001b[49m\u001b[43m,\u001b[49m\u001b[43m \u001b[49m\u001b[38;5;66;43;03m# Update handler in case it changed\u001b[39;49;00m\n\u001b[1;32m     33\u001b[0m \u001b[43m        \u001b[49m\u001b[43mRuntime\u001b[49m\u001b[38;5;241;43m=\u001b[39;49m\u001b[43mruntime\u001b[49m\u001b[43m,\u001b[49m\u001b[43m \u001b[49m\u001b[38;5;66;43;03m# Update runtime in case it changed\u001b[39;49;00m\n\u001b[1;32m     34\u001b[0m \u001b[43m        \u001b[49m\u001b[43mRole\u001b[49m\u001b[38;5;241;43m=\u001b[39;49m\u001b[43mrole_arn\u001b[49m\u001b[43m,\u001b[49m\u001b[43m   \u001b[49m\u001b[38;5;66;43;03m# Update role in case it changed\u001b[39;49;00m\n\u001b[1;32m     35\u001b[0m \u001b[43m        \u001b[49m\u001b[43mTimeout\u001b[49m\u001b[38;5;241;43m=\u001b[39;49m\u001b[43mtimeout\u001b[49m\n\u001b[1;32m     36\u001b[0m \u001b[43m    \u001b[49m\u001b[43m)\u001b[49m\n\u001b[1;32m     37\u001b[0m     \u001b[38;5;28mprint\u001b[39m(\u001b[38;5;124mf\u001b[39m\u001b[38;5;124m\"\u001b[39m\u001b[38;5;132;01m{\u001b[39;00mfunction_name\u001b[38;5;132;01m}\u001b[39;00m\u001b[38;5;124m function code and configuration updated.\u001b[39m\u001b[38;5;124m\"\u001b[39m)\n\u001b[1;32m     38\u001b[0m \u001b[38;5;28;01melse\u001b[39;00m:\n",
      "File \u001b[0;32m~/Library/Python/3.9/lib/python/site-packages/botocore/client.py:570\u001b[0m, in \u001b[0;36mClientCreator._create_api_method.<locals>._api_call\u001b[0;34m(self, *args, **kwargs)\u001b[0m\n\u001b[1;32m    566\u001b[0m     \u001b[38;5;28;01mraise\u001b[39;00m \u001b[38;5;167;01mTypeError\u001b[39;00m(\n\u001b[1;32m    567\u001b[0m         \u001b[38;5;124mf\u001b[39m\u001b[38;5;124m\"\u001b[39m\u001b[38;5;132;01m{\u001b[39;00mpy_operation_name\u001b[38;5;132;01m}\u001b[39;00m\u001b[38;5;124m() only accepts keyword arguments.\u001b[39m\u001b[38;5;124m\"\u001b[39m\n\u001b[1;32m    568\u001b[0m     )\n\u001b[1;32m    569\u001b[0m \u001b[38;5;66;03m# The \"self\" in this scope is referring to the BaseClient.\u001b[39;00m\n\u001b[0;32m--> 570\u001b[0m \u001b[38;5;28;01mreturn\u001b[39;00m \u001b[38;5;28;43mself\u001b[39;49m\u001b[38;5;241;43m.\u001b[39;49m\u001b[43m_make_api_call\u001b[49m\u001b[43m(\u001b[49m\u001b[43moperation_name\u001b[49m\u001b[43m,\u001b[49m\u001b[43m \u001b[49m\u001b[43mkwargs\u001b[49m\u001b[43m)\u001b[49m\n",
      "File \u001b[0;32m~/Library/Python/3.9/lib/python/site-packages/botocore/context.py:123\u001b[0m, in \u001b[0;36mwith_current_context.<locals>.decorator.<locals>.wrapper\u001b[0;34m(*args, **kwargs)\u001b[0m\n\u001b[1;32m    121\u001b[0m \u001b[38;5;28;01mif\u001b[39;00m hook:\n\u001b[1;32m    122\u001b[0m     hook()\n\u001b[0;32m--> 123\u001b[0m \u001b[38;5;28;01mreturn\u001b[39;00m \u001b[43mfunc\u001b[49m\u001b[43m(\u001b[49m\u001b[38;5;241;43m*\u001b[39;49m\u001b[43margs\u001b[49m\u001b[43m,\u001b[49m\u001b[43m \u001b[49m\u001b[38;5;241;43m*\u001b[39;49m\u001b[38;5;241;43m*\u001b[39;49m\u001b[43mkwargs\u001b[49m\u001b[43m)\u001b[49m\n",
      "File \u001b[0;32m~/Library/Python/3.9/lib/python/site-packages/botocore/client.py:1031\u001b[0m, in \u001b[0;36mBaseClient._make_api_call\u001b[0;34m(self, operation_name, api_params)\u001b[0m\n\u001b[1;32m   1027\u001b[0m     error_code \u001b[38;5;241m=\u001b[39m error_info\u001b[38;5;241m.\u001b[39mget(\u001b[38;5;124m\"\u001b[39m\u001b[38;5;124mQueryErrorCode\u001b[39m\u001b[38;5;124m\"\u001b[39m) \u001b[38;5;129;01mor\u001b[39;00m error_info\u001b[38;5;241m.\u001b[39mget(\n\u001b[1;32m   1028\u001b[0m         \u001b[38;5;124m\"\u001b[39m\u001b[38;5;124mCode\u001b[39m\u001b[38;5;124m\"\u001b[39m\n\u001b[1;32m   1029\u001b[0m     )\n\u001b[1;32m   1030\u001b[0m     error_class \u001b[38;5;241m=\u001b[39m \u001b[38;5;28mself\u001b[39m\u001b[38;5;241m.\u001b[39mexceptions\u001b[38;5;241m.\u001b[39mfrom_code(error_code)\n\u001b[0;32m-> 1031\u001b[0m     \u001b[38;5;28;01mraise\u001b[39;00m error_class(parsed_response, operation_name)\n\u001b[1;32m   1032\u001b[0m \u001b[38;5;28;01melse\u001b[39;00m:\n\u001b[1;32m   1033\u001b[0m     \u001b[38;5;28;01mreturn\u001b[39;00m parsed_response\n",
      "\u001b[0;31mResourceConflictException\u001b[0m: An error occurred (ResourceConflictException) when calling the UpdateFunctionConfiguration operation: The operation cannot be performed at this time. An update is in progress for resource: arn:aws:lambda:us-east-1:544835564974:function:verify"
     ]
    }
   ],
   "source": [
    "# --- Deploy Lambda Functions ---\n",
    "if role_arn:\n",
    "    # verify (initial validation) Lambda function\n",
    "    # The name of the Lambda function in AWS will be 'verify'.\n",
    "    # This deploys the 'verify.py' file.\n",
    "    lambda_name_verify = 'verify'  # Correctly define the function name\n",
    "    deploy_lambda_function(\n",
    "    function_name=lambda_name_verify,  # Use the defined variable\n",
    "    handler='verify.lambda_handler',   # Points to verify.py and lambda_handler\n",
    "    runtime='python3.9',\n",
    "    role_arn=role_arn,\n",
    "    zip_file_path=f'{lambda_name_verify}.zip'  # This will look for 'verify.zip'\n",
    ")\n",
    "\n",
    "    # cat_lambda\n",
    "    lambda_name_cat = 'cat_lambda'\n",
    "    deploy_lambda_function(\n",
    "        function_name=lambda_name_cat,\n",
    "        handler='cat_lambda.lambda_handler',\n",
    "        runtime='python3.9',\n",
    "        role_arn=role_arn,\n",
    "        zip_file_path=f'{lambda_name_cat}.zip'\n",
    "    )\n",
    "\n",
    "    # rec_lambda\n",
    "    lambda_name_rec = 'rec_lambda'\n",
    "    deploy_lambda_function(\n",
    "        function_name=lambda_name_rec,\n",
    "        handler='rec_lambda.lambda_handler',\n",
    "        runtime='python3.9',\n",
    "        role_arn=role_arn,\n",
    "        zip_file_path=f'{lambda_name_rec}.zip'\n",
    "    )\n",
    "else:\n",
    "    print(\"Skipping Lambda deployments due to missing IAM Role.\")"
   ]
  },
  {
   "cell_type": "code",
   "execution_count": 15,
   "metadata": {},
   "outputs": [
    {
     "data": {
      "text/plain": [
       "{'ResponseMetadata': {'RequestId': '7a7854a5-4320-41ce-b318-e3b8a66ebbfc',\n",
       "  'HTTPStatusCode': 201,\n",
       "  'HTTPHeaders': {'date': 'Thu, 29 May 2025 05:58:36 GMT',\n",
       "   'content-type': 'application/json',\n",
       "   'content-length': '298',\n",
       "   'connection': 'keep-alive',\n",
       "   'x-amzn-requestid': '7a7854a5-4320-41ce-b318-e3b8a66ebbfc'},\n",
       "  'RetryAttempts': 0},\n",
       " 'Statement': '{\"Sid\":\"s3-invoke\",\"Effect\":\"Allow\",\"Principal\":{\"Service\":\"s3.amazonaws.com\"},\"Action\":\"lambda:InvokeFunction\",\"Resource\":\"arn:aws:lambda:us-east-1:544835564974:function:verify\",\"Condition\":{\"ArnLike\":{\"AWS:SourceArn\":\"arn:aws:s3:::final-summer99d\"}}}'}"
      ]
     },
     "execution_count": 15,
     "metadata": {},
     "output_type": "execute_result"
    }
   ],
   "source": [
    "# Add permission for S3 to invoke the Lambda function\n",
    "lambda_client.add_permission(\n",
    "    FunctionName='verify',  # The name of your Lambda function\n",
    "    StatementId='s3-invoke',  # A unique identifier for this permission\n",
    "    Action='lambda:InvokeFunction',  # The action S3 is allowed to perform\n",
    "    Principal='s3.amazonaws.com',  # The service allowed to invoke the function\n",
    "    SourceArn=f'arn:aws:s3:::{bucket_name}'  # The ARN of your S3 bucket\n",
    ")"
   ]
  },
  {
   "cell_type": "code",
   "execution_count": 16,
   "metadata": {},
   "outputs": [
    {
     "name": "stdout",
     "output_type": "stream",
     "text": [
      "Set up S3 event notification for bucket final-summer99d to trigger Lambda 'verify'.\n"
     ]
    }
   ],
   "source": [
    "# Set up S3 event notification to trigger Lambda\n",
    "try:\n",
    "    s3_client.put_bucket_notification_configuration(\n",
    "        Bucket=bucket_name,\n",
    "        NotificationConfiguration={\n",
    "            'LambdaFunctionConfigurations': [\n",
    "                {\n",
    "                    'LambdaFunctionArn': aws_lambda.get_function(FunctionName='verify')['Configuration']['FunctionArn'],\n",
    "                    'Events': ['s3:ObjectCreated:*'],\n",
    "                    'Filter': {\n",
    "                        'Key': {\n",
    "                            'FilterRules': [\n",
    "                                {'Name': 'prefix', 'Value': 'raw_surveys/'}\n",
    "                            ]\n",
    "                        }\n",
    "                    }\n",
    "                }\n",
    "            ]\n",
    "        }\n",
    "    )\n",
    "    print(f\"Set up S3 event notification for bucket {bucket_name} to trigger Lambda 'verify'.\")\n",
    "except ClientError as e:\n",
    "    print(f\"Error setting up S3 event notification: {str(e)}\")"
   ]
  },
  {
   "cell_type": "code",
   "execution_count": 17,
   "metadata": {},
   "outputs": [
    {
     "name": "stdout",
     "output_type": "stream",
     "text": [
      "SQS queue created: https://sqs.us-east-1.amazonaws.com/544835564974/BetaSurveyQueuesummer99d\n"
     ]
    }
   ],
   "source": [
    "# Step 3: Create SQS Queue\n",
    "queue_url = sqs.create_queue(QueueName='BetaSurveyQueuesummer99d')['QueueUrl']\n",
    "print(f\"SQS queue created: {queue_url}\")"
   ]
  },
  {
   "cell_type": "code",
   "execution_count": 18,
   "metadata": {},
   "outputs": [
    {
     "name": "stdout",
     "output_type": "stream",
     "text": [
      "SQS ARN: arn:aws:sqs:us-east-1:544835564974:BetaSurveyQueuesummer99d\n"
     ]
    }
   ],
   "source": [
    "# Step 6: Get SQS Queue ARN\n",
    "sqs_info = sqs.get_queue_attributes(QueueUrl=queue_url, AttributeNames=['QueueArn'])\n",
    "sqs_arn = sqs_info['Attributes']['QueueArn']\n",
    "print(f\"SQS ARN: {sqs_arn}\")\n"
   ]
  },
  {
   "cell_type": "code",
   "execution_count": 27,
   "metadata": {},
   "outputs": [],
   "source": [
    "queue_name_initial=\"BetaSurveyQueuesummer99d\""
   ]
  },
  {
   "cell_type": "code",
   "execution_count": 24,
   "metadata": {},
   "outputs": [
    {
     "name": "stdout",
     "output_type": "stream",
     "text": [
      "SQS queue linked to Lambda function.\n",
      "SQS Queue URL: https://sqs.us-east-1.amazonaws.com/544835564974/BetaSurveyQueuesummer99d\n"
     ]
    }
   ],
   "source": [
    "# Step 6: Connect SQS to Lambda\n",
    "aws_lambda.create_event_source_mapping(\n",
    "    EventSourceArn=sqs_arn,\n",
    "    FunctionName='verify',\n",
    "    Enabled=True,\n",
    "    BatchSize=10\n",
    ")\n",
    "print(\"SQS queue linked to Lambda function.\")\n",
    "\n",
    "print(f\"SQS Queue URL: {queue_url}\")"
   ]
  },
  {
   "cell_type": "code",
   "execution_count": 24,
   "metadata": {},
   "outputs": [
    {
     "name": "stdout",
     "output_type": "stream",
     "text": [
      "\n",
      "--- Uploading survey files to S3 bucket 'final-summer99d' (this will trigger verify Lambda) --- \n",
      "Uploaded raw_surveys/test1_20250529011735966946.json to S3 bucket final-summer99d with status: 200\n",
      "Upload of tests/test1.json to S3 completed with status: 200\n",
      "Uploaded raw_surveys/test2_20250529011738206887.json to S3 bucket final-summer99d with status: 200\n",
      "Upload of tests/test2.json to S3 completed with status: 200\n",
      "Uploaded raw_surveys/test3_20250529011740394677.json to S3 bucket final-summer99d with status: 200\n",
      "Upload of tests/test3.json to S3 completed with status: 200\n",
      "Uploaded raw_surveys/test4_20250529011742628661.json to S3 bucket final-summer99d with status: 200\n",
      "Upload of tests/test4.json to S3 completed with status: 200\n",
      "Uploaded raw_surveys/test5_20250529011744823979.json to S3 bucket final-summer99d with status: 200\n",
      "Upload of tests/test5.json to S3 completed with status: 200\n",
      "Uploaded raw_surveys/test6_20250529011747037177.json to S3 bucket final-summer99d with status: 200\n",
      "Upload of tests/test6.json to S3 completed with status: 200\n",
      "Uploaded raw_surveys/test7_20250529011749223712.json to S3 bucket final-summer99d with status: 200\n",
      "Upload of tests/test7.json to S3 completed with status: 200\n"
     ]
    }
   ],
   "source": [
    "# --- Simulate Survey Data Ingestion (Upload to S3) ---\n",
    "\n",
    "def upload_survey_to_s3(survey_path, bucket_name, prefix='raw_surveys/'):\n",
    "    s3 = boto3.client('s3', region_name='us-east-1')\n",
    "    \n",
    "    # Read the JSON survey file\n",
    "    with open(survey_path, 'r') as f:\n",
    "        survey_data = json.load(f) # survey_data is now either a dict or a list\n",
    "    \n",
    "    # Ensure each test.json is a list as expected by verify.py\n",
    "    if not isinstance(survey_data, list):\n",
    "        # If a single JSON object, wrap it in a list for verify.py to process\n",
    "        survey_data_to_upload = [survey_data] # Use a new variable name for clarity\n",
    "    else:\n",
    "        survey_data_to_upload = survey_data # If already a list, use it as is\n",
    "    \n",
    "    # Create a unique key for the S3 object\n",
    "    # Example: raw_surveys/test1_TIMESTAMP.json\n",
    "    timestamp_now = datetime.now().strftime(\"%Y%m%d%H%M%S%f\") # More unique timestamp\n",
    "    file_base_name = os.path.basename(survey_path).replace('.json', '')\n",
    "    s3_key = f\"{prefix}{file_base_name}_{timestamp_now}.json\"\n",
    "    \n",
    "    # Upload the survey data (as a JSON string) to S3\n",
    "    try:\n",
    "        s3.put_object(\n",
    "            Bucket=bucket_name,\n",
    "            Key=s3_key,\n",
    "            Body=json.dumps(survey_data_to_upload), # <-- CRITICAL: Use survey_data_to_upload here\n",
    "            ContentType='application/json'\n",
    "        )\n",
    "        print(f\"Uploaded {s3_key} to S3 bucket {bucket_name} with status: 200\")\n",
    "        return 200\n",
    "    except ClientError as e:\n",
    "        print(f\"Error uploading {s3_key} to S3: {str(e)}\")\n",
    "        return 400\n",
    "    except Exception as e:\n",
    "        print(f\"Unexpected error uploading {s3_key} to S3: {str(e)}\")\n",
    "        return 500\n",
    "\n",
    "# List of survey files (assuming these are in a 'tests/' subdirectory)\n",
    "survey_files = [\n",
    "    'tests/test1.json',\n",
    "    'tests/test2.json',\n",
    "    'tests/test3.json',\n",
    "    'tests/test4.json',\n",
    "    'tests/test5.json',\n",
    "    'tests/test6.json',\n",
    "    'tests/test7.json'\n",
    "]\n",
    "\n",
    "# The bucket name is 'final-summer99d' as defined earlier in main1.ipynb\n",
    "if bucket_name: # Use the variable 'incoming_bucket_name'\n",
    "    print(f\"\\n--- Uploading survey files to S3 bucket '{bucket_name}' (this will trigger verify Lambda) --- \")\n",
    "    for survey_file in survey_files:\n",
    "        status = upload_survey_to_s3(survey_file, bucket_name)\n",
    "        print(f\"Upload of {survey_file} to S3 completed with status: {status}\")\n",
    "        time.sleep(2) # Give some time for Lambda to be triggered and process\n",
    "else:\n",
    "    print(\"Skipping survey uploads: Incoming S3 bucket name is not available.\")"
   ]
  },
  {
   "cell_type": "code",
   "execution_count": 25,
   "metadata": {},
   "outputs": [
    {
     "name": "stdout",
     "output_type": "stream",
     "text": [
      "S3 bucket contents:\n",
      "raw_surveys/test1_20250529011735966946.json\n",
      "raw_surveys/test2_20250529011738206887.json\n",
      "raw_surveys/test3_20250529011740394677.json\n",
      "raw_surveys/test4_20250529011742628661.json\n",
      "raw_surveys/test5_20250529011744823979.json\n",
      "raw_surveys/test6_20250529011747037177.json\n",
      "raw_surveys/test7_20250529011749223712.json\n",
      "recommendations/user_001_052724100245.json\n",
      "recommendations/user_002_052724121105.json\n",
      "recommendations/user_003_052724234500.json\n",
      "recommendations/user_004_052724121105.json\n",
      "recommendations/user_005_052724143205.json\n"
     ]
    }
   ],
   "source": [
    "# Verify S3 bucket\n",
    "print(\"S3 bucket contents:\")\n",
    "response = s3_client.list_objects_v2(Bucket='final-summer99d')\n",
    "objects = response.get('Contents', [])\n",
    "if objects:\n",
    "    for obj in objects:\n",
    "        print(obj['Key'])\n",
    "else:\n",
    "    print(\"No objects found in S3 bucket final-summer99d.\")"
   ]
  },
  {
   "cell_type": "code",
   "execution_count": 26,
   "metadata": {},
   "outputs": [
    {
     "name": "stdout",
     "output_type": "stream",
     "text": [
      "\n",
      "--- Verifying DynamoDB records... ---\n",
      "Found 6 records in DynamoDB table 'CyclicalBetaSurvey':\n",
      "{'recommendations': ['Get plenty of rest and iron-rich foods like spinach and lentils.', 'Do gentle yoga or stretching instead of high-intensity workouts.', 'Stay hydrated and use heat pads for cramps.'], 'user_id': 'user_001', 'phase': 'Menstruation', 'responses': {'q1': Decimal('4'), 'q2': Decimal('0'), 'q3': Decimal('1'), 'q4': Decimal('1'), 'q5': {'symptoms': ['Cramps', 'Feeling hot or flushed', 'Digestive issues (constipation, diarrhea)'], 'additional': 'Felt dizzy after waking up.'}, 'q6': Decimal('1')}, 'timestamp': '052724100245', 'valid': True, 'time_elapsed': Decimal('10'), 'sms_sent_status': 'SMS skipped (no valid number).'}\n",
      "{'recommendations': ['Get plenty of rest and iron-rich foods like spinach and lentils.', 'Do gentle yoga or stretching instead of high-intensity workouts.', 'Stay hydrated and use heat pads for cramps.'], 'user_id': 'user_006', 'phase': 'Menstruation', 'responses': {'Q1': Decimal('1'), 'Q2': Decimal('1'), 'Q3': Decimal('2'), 'Q4': Decimal('3'), 'Q5': {'symptoms': [], 'additional': ''}, 'Q6': Decimal('3')}, 'timestamp': '052724081530', 'valid': True, 'time_elapsed': Decimal('34.3'), 'sms_sent_status': 'SMS skipped (no valid number).'}\n",
      "{'recommendations': ['Get plenty of rest and iron-rich foods like spinach and lentils.', 'Do gentle yoga or stretching instead of high-intensity workouts.', 'Stay hydrated and use heat pads for cramps.'], 'user_id': 'user_005', 'phase': 'Menstruation', 'responses': {'q1': Decimal('3'), 'q2': Decimal('2'), 'q3': Decimal('4'), 'q4': Decimal('4'), 'q5': {'symptoms': ['Breast tenderness', 'Lower back pain'], 'additional': 'Mild fatigue but manageable.'}, 'q6': Decimal('4')}, 'timestamp': '052724143205', 'valid': True, 'time_elapsed': Decimal('11.1'), 'sms_sent_status': 'SMS skipped (no valid number).'}\n",
      "{'recommendations': ['Eat zinc-rich foods like pumpkin seeds for hormone support.', 'Socialize and schedule big meetings—confidence peaks now.', 'Engage in high-intensity or group workouts.'], 'user_id': 'user_003', 'phase': 'Ovulation', 'responses': {'q1': Decimal('0'), 'q2': Decimal('4'), 'q3': Decimal('5'), 'q4': Decimal('5'), 'q5': {'symptoms': ['Nothing noticeable today'], 'additional': ''}, 'q6': Decimal('5')}, 'timestamp': '052724234500', 'valid': True, 'time_elapsed': Decimal('8'), 'sms_sent_status': 'SMS skipped (no valid number).'}\n",
      "{'recommendations': ['Eat magnesium-rich foods (dark chocolate, leafy greens) to ease PMS.', 'Practice mindfulness or journaling to regulate mood.', 'Switch to moderate exercise like pilates or walking.'], 'user_id': 'user_002', 'phase': 'Luteal', 'responses': {'q1': Decimal('1'), 'q2': Decimal('3'), 'q3': Decimal('3'), 'q4': Decimal('2'), 'q5': {'symptoms': ['Headache or migraine', 'Acne or skin breakouts'], 'additional': 'Tension around temples.'}, 'q6': Decimal('2')}, 'timestamp': '052724121105', 'valid': True, 'time_elapsed': Decimal('13.2'), 'sms_sent_status': 'SMS skipped (no valid number).'}\n",
      "{'recommendations': ['Get plenty of rest and iron-rich foods like spinach and lentils.', 'Do gentle yoga or stretching instead of high-intensity workouts.', 'Stay hydrated and use heat pads for cramps.'], 'user_id': 'user_004', 'phase': 'Menstruation', 'responses': {'q1': Decimal('2'), 'q2': Decimal('1'), 'q3': Decimal('2'), 'q4': Decimal('3'), 'q5': {'symptoms': ['Cramps', 'Bloating', 'Breast fullness or swelling'], 'additional': 'Mild constipation today.'}, 'q6': Decimal('3')}, 'timestamp': '052724121105', 'valid': True, 'time_elapsed': Decimal('24.2'), 'sms_sent_status': 'SMS skipped (no valid number).'}\n"
     ]
    }
   ],
   "source": [
    "# --- Verify DynamoDB Records ---\n",
    "print(\"\\n--- Verifying DynamoDB records... ---\")\n",
    "table = dynamodb.Table(table_name)\n",
    "try:\n",
    "    dynamodb_records = table.scan()['Items']\n",
    "    if dynamodb_records:\n",
    "        print(f\"Found {len(dynamodb_records)} records in DynamoDB table '{table_name}':\")\n",
    "        for record in dynamodb_records:\n",
    "            print(record)\n",
    "    else:\n",
    "        print(f\"No records found in DynamoDB table '{table_name}'.\")\n",
    "except ClientError as e:\n",
    "    print(f\"Error scanning DynamoDB table '{table_name}': {str(e)}\")\n",
    "    table_description = dynamodb_client.describe_table(TableName=table_name)\n",
    "    print(f\"Table status: {table_description['Table']['TableStatus']}\")\n",
    "    print(f\"Table item count: {table_description['Table']['ItemCount']}\")\n",
    "\n"
   ]
  },
  {
   "cell_type": "code",
   "execution_count": 27,
   "metadata": {},
   "outputs": [
    {
     "name": "stdout",
     "output_type": "stream",
     "text": [
      "Deleted Lambda function: verify\n",
      "Deleted Lambda function: cat_lambda\n",
      "Deleted Lambda function: rec_lambda\n",
      "SQS Queue Deleted\n",
      "DynamoDB Table Deleted\n"
     ]
    }
   ],
   "source": [
    "# Delete each pipeline component if it still exists:\n",
    "\n",
    "# Lambdas\n",
    "lambda_functions=['verify', 'cat_lambda','rec_lambda']\n",
    "for function_name in lambda_functions:\n",
    "    try:\n",
    "        lambda_client.delete_function(FunctionName=function_name)\n",
    "        print(f\"Deleted Lambda function: {function_name}\")\n",
    "    except lambda_client.exceptions.ResourceNotFoundException:\n",
    "        print(f\"Lambda function {function_name} not found\")\n",
    "    except Exception as e:\n",
    "        print(f\"Error deleting Lambda function {function_name}: {e}\")\n",
    "\n",
    "# SQS\n",
    "try:\n",
    "    sqs.delete_queue(QueueUrl='https://sqs.us-east-1.amazonaws.com/544835564974/BetaSurveyQueuesummer99d')\n",
    "    print(\"SQS Queue Deleted\")\n",
    "except sqs.exceptions.QueueDoesNotExist:\n",
    "    print(\"SQS Queue Already Deleted\")\n",
    "\n",
    "# DynamoDB\n",
    "dynamodb = boto3.client('dynamodb', region_name='us-east-1')\n",
    "try:\n",
    "    response = dynamodb.delete_table(TableName='CyclicalBetaSurvey')\n",
    "    print(\"DynamoDB Table Deleted\")\n",
    "except dynamodb.exceptions.ResourceNotFoundException:\n",
    "    print(\"DynamoDB Table Already Deleted\")"
   ]
  }
 ],
 "metadata": {
  "kernelspec": {
   "display_name": "Python 3",
   "language": "python",
   "name": "python3"
  },
  "language_info": {
   "codemirror_mode": {
    "name": "ipython",
    "version": 3
   },
   "file_extension": ".py",
   "mimetype": "text/x-python",
   "name": "python",
   "nbconvert_exporter": "python",
   "pygments_lexer": "ipython3",
   "version": "3.9.6"
  }
 },
 "nbformat": 4,
 "nbformat_minor": 2
}
